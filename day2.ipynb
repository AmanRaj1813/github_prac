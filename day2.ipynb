{
 "cells": [
  {
   "cell_type": "code",
   "execution_count": 1,
   "id": "088781f0",
   "metadata": {},
   "outputs": [
    {
     "name": "stdout",
     "output_type": "stream",
     "text": [
      "Result: 2.111111111111111\n"
     ]
    }
   ],
   "source": [
    "try:\n",
    "    a = float(input(\"Enter first number: \"))\n",
    "    b = float(input(\"Enter second number: \"))\n",
    "    result = a / b\n",
    "    print(\"Result:\", result)\n",
    "except ZeroDivisionError:\n",
    "    print(\"Error: Cannot divide by zero.\")\n",
    "except ValueError:\n",
    "    print(\"Error: Please enter valid numbers.\")"
   ]
  },
  {
   "cell_type": "code",
   "execution_count": 2,
   "id": "1585e994",
   "metadata": {},
   "outputs": [
    {
     "name": "stdout",
     "output_type": "stream",
     "text": [
      "Your age is: 55\n"
     ]
    }
   ],
   "source": [
    "age = input(\"Enter your age: \")\n",
    "try:\n",
    "    age = int(age)\n",
    "    print(\"Your age is:\", age)\n",
    "except ValueError:\n",
    "    print(\"Error: Please enter a numeric value for age.\")"
   ]
  },
  {
   "cell_type": "code",
   "execution_count": 3,
   "id": "a6814208",
   "metadata": {},
   "outputs": [
    {
     "name": "stdout",
     "output_type": "stream",
     "text": [
      "Error: story.txt file not found.\n"
     ]
    }
   ],
   "source": [
    "try:\n",
    "    with open(\"story.txt\", \"r\") as f:\n",
    "        print(f.read())\n",
    "except FileNotFoundError:\n",
    "    print(\"Error: story.txt file not found.\")"
   ]
  },
  {
   "cell_type": "code",
   "execution_count": 4,
   "id": "e78296c0",
   "metadata": {},
   "outputs": [
    {
     "name": "stdout",
     "output_type": "stream",
     "text": [
      "Error: Invalid index.\n"
     ]
    }
   ],
   "source": [
    "items = [\"apple\", \"banana\", \"cherry\", \"date\", \"elderberry\"]\n",
    "try:\n",
    "    idx = int(input(\"Enter index (0-4): \"))\n",
    "    print(\"Item:\", items[idx])\n",
    "except (ValueError, IndexError):\n",
    "    print(\"Error: Invalid index.\")"
   ]
  },
  {
   "cell_type": "code",
   "execution_count": 6,
   "id": "d41946ec",
   "metadata": {},
   "outputs": [
    {
     "name": "stdout",
     "output_type": "stream",
     "text": [
      "an animal\n"
     ]
    }
   ],
   "source": [
    "d = {\"python\": \"a programming language\", \"dog\": \"an animal\"}\n",
    "word = input(\"Enter a word: \")\n",
    "try:\n",
    "    print(d[word])\n",
    "except KeyError:\n",
    "    print(\"Error: Word not found in dictionary.\")"
   ]
  },
  {
   "cell_type": "markdown",
   "id": "5395807f",
   "metadata": {},
   "source": []
  },
  {
   "cell_type": "markdown",
   "id": "86e7122e",
   "metadata": {},
   "source": [
    "P1"
   ]
  },
  {
   "cell_type": "code",
   "execution_count": 9,
   "id": "d4516bc7",
   "metadata": {},
   "outputs": [
    {
     "name": "stdout",
     "output_type": "stream",
     "text": [
      "Total number of lines: 384418\n",
      "Total number of words: 768917\n"
     ]
    }
   ],
   "source": [
    "filename = input(\"Enter file name: \")\n",
    "try:\n",
    "    with open(filename, \"r\") as f:\n",
    "        lines = f.readlines()\n",
    "        num_lines = len(lines)\n",
    "        num_words = sum(len(line.split()) for line in lines)\n",
    "        print(\"Total number of lines:\", num_lines)\n",
    "        print(\"Total number of words:\", num_words)\n",
    "except FileNotFoundError:\n",
    "    print(\"File does not exist.\")"
   ]
  },
  {
   "cell_type": "markdown",
   "id": "cc9a1f0d",
   "metadata": {},
   "source": [
    "P2"
   ]
  },
  {
   "cell_type": "code",
   "execution_count": 10,
   "id": "6c15002a",
   "metadata": {},
   "outputs": [
    {
     "name": "stdout",
     "output_type": "stream",
     "text": [
      "User details file not found.\n",
      "Cannot authenticate without credentials file.\n"
     ]
    }
   ],
   "source": [
    "class UserAuth:\n",
    "    def __init__(self, filename):\n",
    "        self.credentials = {}\n",
    "        try:\n",
    "            with open(filename, \"r\") as f:\n",
    "                data = f.read().strip().split(',')\n",
    "                # Assuming alternating username,password pairs\n",
    "                for i in range(0, len(data), 2):\n",
    "                    if i + 1 < len(data):\n",
    "                        self.credentials[data[i]] = data[i + 1]\n",
    "        except FileNotFoundError:\n",
    "            print(\"User details file not found.\")\n",
    "            self.credentials = None\n",
    "\n",
    "    def login(self, username, password):\n",
    "        if self.credentials is None:\n",
    "            print(\"Cannot authenticate without credentials file.\")\n",
    "            return\n",
    "        if username in self.credentials and self.credentials[username] == password:\n",
    "            print(\"Login successful\")\n",
    "        else:\n",
    "            print(\"Login failed\")\n",
    "\n",
    "# Example usage:\n",
    "auth = UserAuth(\"userdetails.txt\")\n",
    "uname = input(\"Enter username: \")\n",
    "pwd = input(\"Enter password: \")\n",
    "auth.login(uname, pwd)"
   ]
  },
  {
   "cell_type": "code",
   "execution_count": null,
   "id": "a4a90daa",
   "metadata": {},
   "outputs": [],
   "source": [
    "P3"
   ]
  },
  {
   "cell_type": "code",
   "execution_count": 12,
   "id": "3e017a4e",
   "metadata": {},
   "outputs": [
    {
     "name": "stdout",
     "output_type": "stream",
     "text": [
      "Account Number: 7667210793\n",
      "Balance: 746587\n",
      "Interest Rate: 3.5%\n"
     ]
    }
   ],
   "source": [
    "class BankAccount:\n",
    "    def __init__(self, account_number, balance):\n",
    "        self.account_number = account_number\n",
    "        self.balance = balance\n",
    "\n",
    "    def display_details(self):\n",
    "        print(f\"Account Number: {self.account_number}\")\n",
    "        print(f\"Balance: {self.balance}\")\n",
    "\n",
    "class SavingsAccount(BankAccount):\n",
    "    def __init__(self, account_number, balance, interest_rate):\n",
    "        super().__init__(account_number, balance)\n",
    "        self.interest_rate = interest_rate\n",
    "\n",
    "    def display_details(self):\n",
    "        super().display_details()\n",
    "        print(f\"Interest Rate: {self.interest_rate}%\")\n",
    "\n",
    "# Example usage:\n",
    "s = SavingsAccount(\"7667210793\", 746587, 3.5)\n",
    "s.display_details()"
   ]
  },
  {
   "cell_type": "code",
   "execution_count": null,
   "id": "d5b77a2d",
   "metadata": {},
   "outputs": [],
   "source": [
    "P4"
   ]
  },
  {
   "cell_type": "code",
   "execution_count": 13,
   "id": "dbc84366",
   "metadata": {},
   "outputs": [
    {
     "name": "stdout",
     "output_type": "stream",
     "text": [
      "Salary: 50000\n",
      "Salary: 40000\n",
      "Salary: 60000\n",
      "Salary: 16000\n"
     ]
    }
   ],
   "source": [
    "class Employee:\n",
    "    def calculate_salary(self):\n",
    "        pass\n",
    "\n",
    "class FullTimeEmployee(Employee):\n",
    "    def __init__(self, monthly_salary):\n",
    "        self.monthly_salary = monthly_salary\n",
    "\n",
    "    def calculate_salary(self):\n",
    "        return self.monthly_salary\n",
    "\n",
    "class PartTimeEmployee(Employee):\n",
    "    def __init__(self, hours_worked, hourly_rate):\n",
    "        self.hours_worked = hours_worked\n",
    "        self.hourly_rate = hourly_rate\n",
    "\n",
    "    def calculate_salary(self):\n",
    "        return self.hours_worked * self.hourly_rate\n",
    "\n",
    "# Demonstration of polymorphism\n",
    "employees = [\n",
    "    FullTimeEmployee(50000),\n",
    "    PartTimeEmployee(80, 500),\n",
    "    FullTimeEmployee(60000),\n",
    "    PartTimeEmployee(40, 400)\n",
    "]\n",
    "\n",
    "for emp in employees:\n",
    "    print(f\"Salary: {emp.calculate_salary()}\")"
   ]
  },
  {
   "cell_type": "code",
   "execution_count": null,
   "id": "62a35118",
   "metadata": {},
   "outputs": [],
   "source": [
    "P4"
   ]
  },
  {
   "cell_type": "code",
   "execution_count": 14,
   "id": "efc1d3ab",
   "metadata": {},
   "outputs": [
    {
     "name": "stdout",
     "output_type": "stream",
     "text": [
      "Paid using Credit Card\n",
      "Refund issued to Credit Card\n",
      "Paid using UPI\n",
      "Refund issued to UPI wallet\n"
     ]
    }
   ],
   "source": [
    "from abc import ABC, abstractmethod\n",
    "\n",
    "class Payment(ABC):\n",
    "    @abstractmethod\n",
    "    def pay(self):\n",
    "        pass\n",
    "\n",
    "    @abstractmethod\n",
    "    def refund(self):\n",
    "        pass\n",
    "\n",
    "class CreditCardPayment(Payment):\n",
    "    def pay(self):\n",
    "        print(\"Paid using Credit Card\")\n",
    "\n",
    "    def refund(self):\n",
    "        print(\"Refund issued to Credit Card\")\n",
    "\n",
    "class UPIPayment(Payment):\n",
    "    def pay(self):\n",
    "        print(\"Paid using UPI\")\n",
    "\n",
    "    def refund(self):\n",
    "        print(\"Refund issued to UPI wallet\")\n",
    "\n",
    "# Example usage:\n",
    "payments = [CreditCardPayment(), UPIPayment()]\n",
    "for payment in payments:\n",
    "    payment.pay()\n",
    "    payment.refund()"
   ]
  }
 ],
 "metadata": {
  "kernelspec": {
   "display_name": "base",
   "language": "python",
   "name": "python3"
  },
  "language_info": {
   "codemirror_mode": {
    "name": "ipython",
    "version": 3
   },
   "file_extension": ".py",
   "mimetype": "text/x-python",
   "name": "python",
   "nbconvert_exporter": "python",
   "pygments_lexer": "ipython3",
   "version": "3.13.5"
  }
 },
 "nbformat": 4,
 "nbformat_minor": 5
}
